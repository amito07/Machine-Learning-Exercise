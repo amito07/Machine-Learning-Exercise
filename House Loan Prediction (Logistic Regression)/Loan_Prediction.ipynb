{
 "cells": [
  {
   "cell_type": "code",
   "id": "initial_id",
   "metadata": {
    "collapsed": true,
    "ExecuteTime": {
     "end_time": "2025-02-01T16:24:39.578331Z",
     "start_time": "2025-02-01T16:24:37.332153Z"
    }
   },
   "source": [
    "import copy, math\n",
    "import pandas as pd\n",
    "import numpy as np\n",
    "from sklearn.preprocessing import StandardScaler\n",
    "from feature_engine.outliers import OutlierTrimmer\n",
    "from sklearn.model_selection import train_test_split\n",
    "from sklearn.metrics import roc_curve, auc\n",
    "import matplotlib.pyplot as plt\n",
    "\n",
    "df = pd.read_csv('loan_data.csv')\n",
    "df.info()"
   ],
   "outputs": [
    {
     "name": "stdout",
     "output_type": "stream",
     "text": [
      "<class 'pandas.core.frame.DataFrame'>\n",
      "RangeIndex: 45000 entries, 0 to 44999\n",
      "Data columns (total 14 columns):\n",
      " #   Column                          Non-Null Count  Dtype  \n",
      "---  ------                          --------------  -----  \n",
      " 0   person_age                      45000 non-null  float64\n",
      " 1   person_gender                   45000 non-null  object \n",
      " 2   person_education                45000 non-null  object \n",
      " 3   person_income                   45000 non-null  float64\n",
      " 4   person_emp_exp                  45000 non-null  int64  \n",
      " 5   person_home_ownership           45000 non-null  object \n",
      " 6   loan_amnt                       45000 non-null  float64\n",
      " 7   loan_intent                     45000 non-null  object \n",
      " 8   loan_int_rate                   45000 non-null  float64\n",
      " 9   loan_percent_income             45000 non-null  float64\n",
      " 10  cb_person_cred_hist_length      45000 non-null  float64\n",
      " 11  credit_score                    45000 non-null  int64  \n",
      " 12  previous_loan_defaults_on_file  45000 non-null  object \n",
      " 13  loan_status                     45000 non-null  int64  \n",
      "dtypes: float64(6), int64(3), object(5)\n",
      "memory usage: 4.8+ MB\n"
     ]
    }
   ],
   "execution_count": 23
  },
  {
   "metadata": {
    "ExecuteTime": {
     "end_time": "2025-02-01T16:15:28.044281Z",
     "start_time": "2025-02-01T16:15:28.024049Z"
    }
   },
   "cell_type": "code",
   "source": "df = df.drop(['person_emp_exp', 'cb_person_cred_hist_length', 'loan_percent_income', 'loan_int_rate'], axis=1)",
   "id": "bbf5defe12dd4854",
   "outputs": [],
   "execution_count": 3
  },
  {
   "metadata": {
    "ExecuteTime": {
     "end_time": "2025-02-01T16:15:29.470170Z",
     "start_time": "2025-02-01T16:15:29.438025Z"
    }
   },
   "cell_type": "code",
   "source": [
    "df[\"person_age\"] = df[\"person_age\"].astype(int)\n",
    "person_education = {'High School': 0,'Associate': 1,'Bachelor': 2,'Master': 3,'Doctorate':4}\n",
    "gender_mapping = {'male': 0, 'female': 1}\n",
    "home_ownership_mapping = {'RENT': 0, 'OWN': 1, 'MORTGAGE': 2, 'OTHER': 3}\n",
    "loan_intent_mapping = {'PERSONAL': 0, 'EDUCATION': 1, 'MEDICAL': 2, 'VENTURE': 3, 'HOMEIMPROVEMENT': 4, 'DEBTCONSOLIDATION': 5}\n",
    "previous_loan_defaults_mapping = {'No': 0, 'Yes': 1}\n",
    "\n",
    "df['person_education'] = df['person_education'].map(person_education)\n",
    "df['person_gender'] = df['person_gender'].map(gender_mapping)\n",
    "df['person_home_ownership'] = df['person_home_ownership'].map(home_ownership_mapping)\n",
    "df['loan_intent'] = df['loan_intent'].map(loan_intent_mapping)\n",
    "df['previous_loan_defaults_on_file'] = df['previous_loan_defaults_on_file'].map(previous_loan_defaults_mapping)"
   ],
   "id": "2da46421b4eae38e",
   "outputs": [],
   "execution_count": 4
  },
  {
   "metadata": {
    "ExecuteTime": {
     "end_time": "2025-02-01T16:15:31.728148Z",
     "start_time": "2025-02-01T16:15:31.633323Z"
    }
   },
   "cell_type": "code",
   "source": [
    "trimmer = OutlierTrimmer(capping_method='iqr', tail='right',variables= ['person_age', 'person_gender', 'person_education', 'person_income', 'person_home_ownership', 'loan_amnt','loan_intent', 'credit_score','previous_loan_defaults_on_file'])\n",
    "df2 = trimmer.fit_transform(df)\n",
    "df2.head()"
   ],
   "id": "5d9bf4e0616b632f",
   "outputs": [
    {
     "data": {
      "text/plain": [
       "    person_age  person_gender  person_education  person_income  \\\n",
       "1           21              1                 0        12282.0   \n",
       "2           25              1                 0        12438.0   \n",
       "5           21              1                 0        12951.0   \n",
       "9           21              1                 0        12739.0   \n",
       "11          21              1                 1        13113.0   \n",
       "\n",
       "    person_home_ownership  loan_amnt  loan_intent  credit_score  \\\n",
       "1                       1     1000.0            1           504   \n",
       "2                       2     5500.0            2           635   \n",
       "5                       1     2500.0            3           532   \n",
       "9                       1     1600.0            3           640   \n",
       "11                      1     4500.0            4           651   \n",
       "\n",
       "    previous_loan_defaults_on_file  loan_status  \n",
       "1                                1            0  \n",
       "2                                0            1  \n",
       "5                                0            1  \n",
       "9                                0            1  \n",
       "11                               0            1  "
      ],
      "text/html": [
       "<div>\n",
       "<style scoped>\n",
       "    .dataframe tbody tr th:only-of-type {\n",
       "        vertical-align: middle;\n",
       "    }\n",
       "\n",
       "    .dataframe tbody tr th {\n",
       "        vertical-align: top;\n",
       "    }\n",
       "\n",
       "    .dataframe thead th {\n",
       "        text-align: right;\n",
       "    }\n",
       "</style>\n",
       "<table border=\"1\" class=\"dataframe\">\n",
       "  <thead>\n",
       "    <tr style=\"text-align: right;\">\n",
       "      <th></th>\n",
       "      <th>person_age</th>\n",
       "      <th>person_gender</th>\n",
       "      <th>person_education</th>\n",
       "      <th>person_income</th>\n",
       "      <th>person_home_ownership</th>\n",
       "      <th>loan_amnt</th>\n",
       "      <th>loan_intent</th>\n",
       "      <th>credit_score</th>\n",
       "      <th>previous_loan_defaults_on_file</th>\n",
       "      <th>loan_status</th>\n",
       "    </tr>\n",
       "  </thead>\n",
       "  <tbody>\n",
       "    <tr>\n",
       "      <th>1</th>\n",
       "      <td>21</td>\n",
       "      <td>1</td>\n",
       "      <td>0</td>\n",
       "      <td>12282.0</td>\n",
       "      <td>1</td>\n",
       "      <td>1000.0</td>\n",
       "      <td>1</td>\n",
       "      <td>504</td>\n",
       "      <td>1</td>\n",
       "      <td>0</td>\n",
       "    </tr>\n",
       "    <tr>\n",
       "      <th>2</th>\n",
       "      <td>25</td>\n",
       "      <td>1</td>\n",
       "      <td>0</td>\n",
       "      <td>12438.0</td>\n",
       "      <td>2</td>\n",
       "      <td>5500.0</td>\n",
       "      <td>2</td>\n",
       "      <td>635</td>\n",
       "      <td>0</td>\n",
       "      <td>1</td>\n",
       "    </tr>\n",
       "    <tr>\n",
       "      <th>5</th>\n",
       "      <td>21</td>\n",
       "      <td>1</td>\n",
       "      <td>0</td>\n",
       "      <td>12951.0</td>\n",
       "      <td>1</td>\n",
       "      <td>2500.0</td>\n",
       "      <td>3</td>\n",
       "      <td>532</td>\n",
       "      <td>0</td>\n",
       "      <td>1</td>\n",
       "    </tr>\n",
       "    <tr>\n",
       "      <th>9</th>\n",
       "      <td>21</td>\n",
       "      <td>1</td>\n",
       "      <td>0</td>\n",
       "      <td>12739.0</td>\n",
       "      <td>1</td>\n",
       "      <td>1600.0</td>\n",
       "      <td>3</td>\n",
       "      <td>640</td>\n",
       "      <td>0</td>\n",
       "      <td>1</td>\n",
       "    </tr>\n",
       "    <tr>\n",
       "      <th>11</th>\n",
       "      <td>21</td>\n",
       "      <td>1</td>\n",
       "      <td>1</td>\n",
       "      <td>13113.0</td>\n",
       "      <td>1</td>\n",
       "      <td>4500.0</td>\n",
       "      <td>4</td>\n",
       "      <td>651</td>\n",
       "      <td>0</td>\n",
       "      <td>1</td>\n",
       "    </tr>\n",
       "  </tbody>\n",
       "</table>\n",
       "</div>"
      ]
     },
     "execution_count": 5,
     "metadata": {},
     "output_type": "execute_result"
    }
   ],
   "execution_count": 5
  },
  {
   "metadata": {
    "ExecuteTime": {
     "end_time": "2025-02-01T16:15:34.626560Z",
     "start_time": "2025-02-01T16:15:34.619898Z"
    }
   },
   "cell_type": "code",
   "source": [
    "skewed_cols = ['person_age', 'person_income','loan_amnt', 'credit_score']\n",
    "ss = StandardScaler()"
   ],
   "id": "f52de6788af77598",
   "outputs": [],
   "execution_count": 6
  },
  {
   "metadata": {
    "ExecuteTime": {
     "end_time": "2025-02-01T16:15:36.923898Z",
     "start_time": "2025-02-01T16:15:36.901199Z"
    }
   },
   "cell_type": "code",
   "source": [
    "df2[skewed_cols] = ss.fit_transform(df2[skewed_cols])\n",
    "df2.head()"
   ],
   "id": "53a1a8c2862d6a1a",
   "outputs": [
    {
     "data": {
      "text/plain": [
       "    person_age  person_gender  person_education  person_income  \\\n",
       "1    -1.345671              1                 0      -1.796102   \n",
       "2    -0.407572              1                 0      -1.791175   \n",
       "5    -1.345671              1                 0      -1.774973   \n",
       "9    -1.345671              1                 0      -1.781668   \n",
       "11   -1.345671              1                 1      -1.769856   \n",
       "\n",
       "    person_home_ownership  loan_amnt  loan_intent  credit_score  \\\n",
       "1                       1  -1.524954            1     -2.533591   \n",
       "2                       2  -0.611806            2      0.079621   \n",
       "5                       1  -1.220571            3     -1.975042   \n",
       "9                       1  -1.403201            3      0.179362   \n",
       "11                      1  -0.814728            4      0.398792   \n",
       "\n",
       "    previous_loan_defaults_on_file  loan_status  \n",
       "1                                1            0  \n",
       "2                                0            1  \n",
       "5                                0            1  \n",
       "9                                0            1  \n",
       "11                               0            1  "
      ],
      "text/html": [
       "<div>\n",
       "<style scoped>\n",
       "    .dataframe tbody tr th:only-of-type {\n",
       "        vertical-align: middle;\n",
       "    }\n",
       "\n",
       "    .dataframe tbody tr th {\n",
       "        vertical-align: top;\n",
       "    }\n",
       "\n",
       "    .dataframe thead th {\n",
       "        text-align: right;\n",
       "    }\n",
       "</style>\n",
       "<table border=\"1\" class=\"dataframe\">\n",
       "  <thead>\n",
       "    <tr style=\"text-align: right;\">\n",
       "      <th></th>\n",
       "      <th>person_age</th>\n",
       "      <th>person_gender</th>\n",
       "      <th>person_education</th>\n",
       "      <th>person_income</th>\n",
       "      <th>person_home_ownership</th>\n",
       "      <th>loan_amnt</th>\n",
       "      <th>loan_intent</th>\n",
       "      <th>credit_score</th>\n",
       "      <th>previous_loan_defaults_on_file</th>\n",
       "      <th>loan_status</th>\n",
       "    </tr>\n",
       "  </thead>\n",
       "  <tbody>\n",
       "    <tr>\n",
       "      <th>1</th>\n",
       "      <td>-1.345671</td>\n",
       "      <td>1</td>\n",
       "      <td>0</td>\n",
       "      <td>-1.796102</td>\n",
       "      <td>1</td>\n",
       "      <td>-1.524954</td>\n",
       "      <td>1</td>\n",
       "      <td>-2.533591</td>\n",
       "      <td>1</td>\n",
       "      <td>0</td>\n",
       "    </tr>\n",
       "    <tr>\n",
       "      <th>2</th>\n",
       "      <td>-0.407572</td>\n",
       "      <td>1</td>\n",
       "      <td>0</td>\n",
       "      <td>-1.791175</td>\n",
       "      <td>2</td>\n",
       "      <td>-0.611806</td>\n",
       "      <td>2</td>\n",
       "      <td>0.079621</td>\n",
       "      <td>0</td>\n",
       "      <td>1</td>\n",
       "    </tr>\n",
       "    <tr>\n",
       "      <th>5</th>\n",
       "      <td>-1.345671</td>\n",
       "      <td>1</td>\n",
       "      <td>0</td>\n",
       "      <td>-1.774973</td>\n",
       "      <td>1</td>\n",
       "      <td>-1.220571</td>\n",
       "      <td>3</td>\n",
       "      <td>-1.975042</td>\n",
       "      <td>0</td>\n",
       "      <td>1</td>\n",
       "    </tr>\n",
       "    <tr>\n",
       "      <th>9</th>\n",
       "      <td>-1.345671</td>\n",
       "      <td>1</td>\n",
       "      <td>0</td>\n",
       "      <td>-1.781668</td>\n",
       "      <td>1</td>\n",
       "      <td>-1.403201</td>\n",
       "      <td>3</td>\n",
       "      <td>0.179362</td>\n",
       "      <td>0</td>\n",
       "      <td>1</td>\n",
       "    </tr>\n",
       "    <tr>\n",
       "      <th>11</th>\n",
       "      <td>-1.345671</td>\n",
       "      <td>1</td>\n",
       "      <td>1</td>\n",
       "      <td>-1.769856</td>\n",
       "      <td>1</td>\n",
       "      <td>-0.814728</td>\n",
       "      <td>4</td>\n",
       "      <td>0.398792</td>\n",
       "      <td>0</td>\n",
       "      <td>1</td>\n",
       "    </tr>\n",
       "  </tbody>\n",
       "</table>\n",
       "</div>"
      ]
     },
     "execution_count": 7,
     "metadata": {},
     "output_type": "execute_result"
    }
   ],
   "execution_count": 7
  },
  {
   "metadata": {
    "ExecuteTime": {
     "end_time": "2025-02-01T16:15:39.956605Z",
     "start_time": "2025-02-01T16:15:39.934432Z"
    }
   },
   "cell_type": "code",
   "source": [
    "df2[skewed_cols] = ss.transform(df2[skewed_cols])\n",
    "df2.head()"
   ],
   "id": "62f45b0ac83faf40",
   "outputs": [
    {
     "data": {
      "text/plain": [
       "    person_age  person_gender  person_education  person_income  \\\n",
       "1    -6.586287              1                 0      -2.184074   \n",
       "2    -6.366279              1                 0      -2.184074   \n",
       "5    -6.586287              1                 0      -2.184073   \n",
       "9    -6.586287              1                 0      -2.184073   \n",
       "11   -6.586287              1                 1      -2.184073   \n",
       "\n",
       "    person_home_ownership  loan_amnt  loan_intent  credit_score  \\\n",
       "1                       1  -1.728185            1    -12.638015   \n",
       "2                       2  -1.728000            2    -12.585886   \n",
       "5                       1  -1.728123            3    -12.626873   \n",
       "9                       1  -1.728160            3    -12.583897   \n",
       "11                      1  -1.728041            4    -12.579519   \n",
       "\n",
       "    previous_loan_defaults_on_file  loan_status  \n",
       "1                                1            0  \n",
       "2                                0            1  \n",
       "5                                0            1  \n",
       "9                                0            1  \n",
       "11                               0            1  "
      ],
      "text/html": [
       "<div>\n",
       "<style scoped>\n",
       "    .dataframe tbody tr th:only-of-type {\n",
       "        vertical-align: middle;\n",
       "    }\n",
       "\n",
       "    .dataframe tbody tr th {\n",
       "        vertical-align: top;\n",
       "    }\n",
       "\n",
       "    .dataframe thead th {\n",
       "        text-align: right;\n",
       "    }\n",
       "</style>\n",
       "<table border=\"1\" class=\"dataframe\">\n",
       "  <thead>\n",
       "    <tr style=\"text-align: right;\">\n",
       "      <th></th>\n",
       "      <th>person_age</th>\n",
       "      <th>person_gender</th>\n",
       "      <th>person_education</th>\n",
       "      <th>person_income</th>\n",
       "      <th>person_home_ownership</th>\n",
       "      <th>loan_amnt</th>\n",
       "      <th>loan_intent</th>\n",
       "      <th>credit_score</th>\n",
       "      <th>previous_loan_defaults_on_file</th>\n",
       "      <th>loan_status</th>\n",
       "    </tr>\n",
       "  </thead>\n",
       "  <tbody>\n",
       "    <tr>\n",
       "      <th>1</th>\n",
       "      <td>-6.586287</td>\n",
       "      <td>1</td>\n",
       "      <td>0</td>\n",
       "      <td>-2.184074</td>\n",
       "      <td>1</td>\n",
       "      <td>-1.728185</td>\n",
       "      <td>1</td>\n",
       "      <td>-12.638015</td>\n",
       "      <td>1</td>\n",
       "      <td>0</td>\n",
       "    </tr>\n",
       "    <tr>\n",
       "      <th>2</th>\n",
       "      <td>-6.366279</td>\n",
       "      <td>1</td>\n",
       "      <td>0</td>\n",
       "      <td>-2.184074</td>\n",
       "      <td>2</td>\n",
       "      <td>-1.728000</td>\n",
       "      <td>2</td>\n",
       "      <td>-12.585886</td>\n",
       "      <td>0</td>\n",
       "      <td>1</td>\n",
       "    </tr>\n",
       "    <tr>\n",
       "      <th>5</th>\n",
       "      <td>-6.586287</td>\n",
       "      <td>1</td>\n",
       "      <td>0</td>\n",
       "      <td>-2.184073</td>\n",
       "      <td>1</td>\n",
       "      <td>-1.728123</td>\n",
       "      <td>3</td>\n",
       "      <td>-12.626873</td>\n",
       "      <td>0</td>\n",
       "      <td>1</td>\n",
       "    </tr>\n",
       "    <tr>\n",
       "      <th>9</th>\n",
       "      <td>-6.586287</td>\n",
       "      <td>1</td>\n",
       "      <td>0</td>\n",
       "      <td>-2.184073</td>\n",
       "      <td>1</td>\n",
       "      <td>-1.728160</td>\n",
       "      <td>3</td>\n",
       "      <td>-12.583897</td>\n",
       "      <td>0</td>\n",
       "      <td>1</td>\n",
       "    </tr>\n",
       "    <tr>\n",
       "      <th>11</th>\n",
       "      <td>-6.586287</td>\n",
       "      <td>1</td>\n",
       "      <td>1</td>\n",
       "      <td>-2.184073</td>\n",
       "      <td>1</td>\n",
       "      <td>-1.728041</td>\n",
       "      <td>4</td>\n",
       "      <td>-12.579519</td>\n",
       "      <td>0</td>\n",
       "      <td>1</td>\n",
       "    </tr>\n",
       "  </tbody>\n",
       "</table>\n",
       "</div>"
      ]
     },
     "execution_count": 8,
     "metadata": {},
     "output_type": "execute_result"
    }
   ],
   "execution_count": 8
  },
  {
   "metadata": {
    "ExecuteTime": {
     "end_time": "2025-02-01T16:23:17.876775Z",
     "start_time": "2025-02-01T16:23:17.854220Z"
    }
   },
   "cell_type": "code",
   "source": [
    "X = df2.drop(columns=['loan_status'])\n",
    "Y = df2['loan_status']\n",
    "X_train, X_test, y_train, y_test = train_test_split(X, Y, test_size=0.2, random_state=42)\n",
    "X_train_array = X_train.to_numpy()\n",
    "X_test_array = X_test.to_numpy()\n",
    "y_train_array = y_train.to_numpy()\n",
    "y_test_array = y_test.to_numpy()\n"
   ],
   "id": "4187b9b562565b6b",
   "outputs": [],
   "execution_count": 21
  },
  {
   "metadata": {
    "ExecuteTime": {
     "end_time": "2025-02-01T16:15:45.575623Z",
     "start_time": "2025-02-01T16:15:45.569673Z"
    }
   },
   "cell_type": "code",
   "source": [
    "def sigmoid(z):\n",
    "    return 1 / (1 + np.exp(-z))"
   ],
   "id": "8911194dc299e76e",
   "outputs": [],
   "execution_count": 10
  },
  {
   "metadata": {
    "ExecuteTime": {
     "end_time": "2025-02-01T06:44:32.459058Z",
     "start_time": "2025-02-01T06:44:32.452022Z"
    }
   },
   "cell_type": "code",
   "source": [
    "def compute_gradient_logistic(X, y, w, b):\n",
    "    \"\"\"\n",
    "    Computes the gradient for logistic regression\n",
    "\n",
    "    Args:\n",
    "      X (ndarray (m,n): Data, m examples with n features\n",
    "      y (ndarray (m,)): target values\n",
    "      w (ndarray (n,)): model parameters\n",
    "      b (scalar)      : model parameter\n",
    "    Returns\n",
    "      dj_dw (ndarray (n,)): The gradient of the cost w.r.t. the parameters w.\n",
    "      dj_db (scalar)      : The gradient of the cost w.r.t. the parameter b.\n",
    "    \"\"\"\n",
    "    m,n = X.shape\n",
    "    dj_dw = np.zeros((n,))\n",
    "    dj_db = 0.\n",
    "\n",
    "    # for i in range(m):\n",
    "    #     f_wb_i = sigmoid(np.dot(X[i],w) + b)\n",
    "    #     # print(\"f_wb_i\", f_wb_i)                                     #(n,)(n,)=scalar\n",
    "    #     err_i  = f_wb_i  - y[i]                     #scalar\n",
    "    #     for j in range(n):\n",
    "    #         dj_dw[j] = dj_dw[j] + err_i * X[i,j]      #scalar\n",
    "    #     dj_db = dj_db + err_i\n",
    "    # dj_dw = dj_dw/m                                   #(n,)\n",
    "    # dj_db = dj_db/m                                   #scalar\n",
    "    z = np.dot(X, w) + b\n",
    "    f_wb = sigmoid(z)  # (m,)\n",
    "    error = f_wb - y                  # (m,)\n",
    "    dj_dw = np.dot(X.T, error) / m     # (n,)  -> Uses matrix multiplication instead of loops\n",
    "    dj_db = np.sum(error) / m          # Scalar\n",
    "\n",
    "    return dj_db, dj_dw"
   ],
   "id": "85945579493c1344",
   "outputs": [],
   "execution_count": 20
  },
  {
   "metadata": {
    "ExecuteTime": {
     "end_time": "2025-02-01T06:44:35.362678Z",
     "start_time": "2025-02-01T06:44:35.354633Z"
    }
   },
   "cell_type": "code",
   "source": [
    "w_tmp = np.zeros(9)\n",
    "b_tmp = 1.\n",
    "dj_db_tmp, dj_dw_tmp = compute_gradient_logistic(X_train_array, y_train_array, w_tmp, b_tmp)\n",
    "print(f\"dj_db: {dj_db_tmp}\" )\n",
    "print(f\"dj_dw: {dj_dw_tmp.tolist()}\" )\n"
   ],
   "id": "b81d08ffc06e7640",
   "outputs": [
    {
     "name": "stdout",
     "output_type": "stream",
     "text": [
      "dj_db: 0.5099170378058432\n",
      "dj_dw: [-3.1950188464842677, 0.22979738706986272, 0.7104160539702781, -1.1136637116679942, 0.5244678892431833, -0.8810807077285424, 1.1325963933640777, -6.418504260058619, 0.3759843438532549]\n"
     ]
    }
   ],
   "execution_count": 21
  },
  {
   "metadata": {
    "ExecuteTime": {
     "end_time": "2025-02-01T06:44:37.326626Z",
     "start_time": "2025-02-01T06:44:37.319843Z"
    }
   },
   "cell_type": "code",
   "source": [
    "def compute_cost_logistic(X, y, w, b):\n",
    "    \"\"\"\n",
    "    Computes cost\n",
    "\n",
    "    Args:\n",
    "      X (ndarray (m,n)): Data, m examples with n features\n",
    "      y (ndarray (m,)) : target values\n",
    "      w (ndarray (n,)) : model parameters\n",
    "      b (scalar)       : model parameter\n",
    "\n",
    "    Returns:\n",
    "      cost (scalar): cost\n",
    "    \"\"\"\n",
    "\n",
    "    m = X.shape[0]\n",
    "    cost = 0.0\n",
    "    for i in range(m):\n",
    "        z_i = np.dot(X[i],w) + b\n",
    "        f_wb_i = sigmoid(z_i)\n",
    "        cost +=  -y[i]*np.log(f_wb_i) - (1-y[i])*np.log(1-f_wb_i)\n",
    "\n",
    "    cost = cost / m\n",
    "    return cost"
   ],
   "id": "8c3a71822f1b5463",
   "outputs": [],
   "execution_count": 22
  },
  {
   "metadata": {
    "ExecuteTime": {
     "end_time": "2025-02-01T06:44:39.279889Z",
     "start_time": "2025-02-01T06:44:39.271466Z"
    }
   },
   "cell_type": "code",
   "source": [
    "def gradient_descent(X, y, w_in, b_in, alpha, num_iters):\n",
    "    \"\"\"\n",
    "    Performs batch gradient descent\n",
    "\n",
    "    Args:\n",
    "      X (ndarray (m,n)   : Data, m examples with n features\n",
    "      y (ndarray (m,))   : target values\n",
    "      w_in (ndarray (n,)): Initial values of model parameters\n",
    "      b_in (scalar)      : Initial values of model parameter\n",
    "      alpha (float)      : Learning rate\n",
    "      num_iters (scalar) : number of iterations to run gradient descent\n",
    "\n",
    "    Returns:\n",
    "      w (ndarray (n,))   : Updated values of parameters\n",
    "      b (scalar)         : Updated value of parameter\n",
    "    \"\"\"\n",
    "    # An array to store cost J and w's at each iteration primarily for graphing later\n",
    "    J_history = []\n",
    "    w = copy.deepcopy(w_in)  #avoid modifying global w within function\n",
    "    b = b_in\n",
    "\n",
    "    for i in range(num_iters):\n",
    "        # Calculate the gradient and update the parameters\n",
    "        dj_db, dj_dw = compute_gradient_logistic(X, y, w, b)\n",
    "\n",
    "        # Update Parameters using w, b, alpha and gradient\n",
    "        w = w - alpha * dj_dw\n",
    "        b = b - alpha * dj_db\n",
    "\n",
    "        # Save cost J at each iteration\n",
    "        if i<100000:      # prevent resource exhaustion\n",
    "            J_history.append( compute_cost_logistic(X, y, w, b) )\n",
    "\n",
    "        # Print cost every at intervals 10 times or as many iterations if < 10\n",
    "        if i% math.ceil(num_iters / 10) == 0:\n",
    "            print(f\"Iteration {i:4d}: Cost {J_history[-1]}   \")\n",
    "\n",
    "    return w, b, J_history         #return final w,b and J history for graphing\n"
   ],
   "id": "9a3af4af6227cfca",
   "outputs": [],
   "execution_count": 23
  },
  {
   "metadata": {
    "ExecuteTime": {
     "end_time": "2025-02-01T07:25:57.116800Z",
     "start_time": "2025-02-01T06:44:42.047892Z"
    }
   },
   "cell_type": "code",
   "source": [
    "df2.isnull().sum()\n",
    "w_tmp = array_of_zeros = np.zeros(9)\n",
    "b_tmp = 1.\n",
    "alph = 0.1\n",
    "iters = 10000\n",
    "w_out, b_out, _ = gradient_descent(X_train_array, y_train_array, w_tmp, b_tmp, alph, iters)\n",
    "print(f\"\\nupdated parameters: w:{w_out}, b:{b_out}\")"
   ],
   "id": "56927dc8cec085e8",
   "outputs": [
    {
     "name": "stdout",
     "output_type": "stream",
     "text": [
      "Iteration    0: Cost 2.2006654274555886   \n",
      "Iteration 1000: Cost 0.4397716703743892   \n",
      "Iteration 2000: Cost 0.41237788210852305   \n",
      "Iteration 3000: Cost 0.40388644287820274   \n",
      "Iteration 4000: Cost 0.39976520119896997   \n",
      "Iteration 5000: Cost 0.3973236769399358   \n",
      "Iteration 6000: Cost 0.3957086723663271   \n",
      "Iteration 7000: Cost 0.3945630683934317   \n",
      "Iteration 8000: Cost 0.3937099195908194   \n",
      "Iteration 9000: Cost 0.3930511103384245   \n",
      "\n",
      "updated parameters: w:[-0.43712238 -0.03245534 -0.11918151  0.17835092 -0.94733786  0.14880933\n",
      "  0.14915072  0.32465764 -6.78881329], b:0.9174657458675807\n"
     ]
    }
   ],
   "execution_count": 24
  },
  {
   "metadata": {
    "ExecuteTime": {
     "end_time": "2025-02-01T16:16:20.847041Z",
     "start_time": "2025-02-01T16:16:20.839210Z"
    }
   },
   "cell_type": "code",
   "source": [
    "w_out = [-0.43712238, -0.03245534, -0.11918151,  0.17835092, -0.94733786,  0.14880933,\n",
    "  0.14915072,  0.32465764, -6.78881329]\n",
    "b = 0.9174657458675807\n",
    "\n"
   ],
   "id": "a8821fbdc1c932b9",
   "outputs": [],
   "execution_count": 11
  },
  {
   "metadata": {
    "ExecuteTime": {
     "end_time": "2025-02-01T16:19:04.770090Z",
     "start_time": "2025-02-01T16:19:04.759154Z"
    }
   },
   "cell_type": "code",
   "source": [
    "# X_test_array = X_test.to_numpy()\n",
    "# y_test_array = y_test.to_numpy()\n",
    "z = np.dot(X_test_array, w_out) + b\n",
    "y_pred_probs = sigmoid(z)\n",
    "y_pred = (y_pred_probs >= 0.5).astype(int)\n",
    "y_pred"
   ],
   "id": "b828a0a31c05e650",
   "outputs": [
    {
     "data": {
      "text/plain": [
       "array([0, 0, 0, ..., 0, 0, 0], shape=(7815,))"
      ]
     },
     "execution_count": 15,
     "metadata": {},
     "output_type": "execute_result"
    }
   ],
   "execution_count": 15
  },
  {
   "metadata": {
    "ExecuteTime": {
     "end_time": "2025-02-01T16:20:00.461165Z",
     "start_time": "2025-02-01T16:20:00.452466Z"
    }
   },
   "cell_type": "code",
   "source": "y_test_array",
   "id": "f45ee64394ac0604",
   "outputs": [
    {
     "data": {
      "text/plain": [
       "array([0, 0, 0, ..., 1, 0, 0], shape=(7815,))"
      ]
     },
     "execution_count": 17,
     "metadata": {},
     "output_type": "execute_result"
    }
   ],
   "execution_count": 17
  },
  {
   "metadata": {
    "ExecuteTime": {
     "end_time": "2025-02-01T16:19:27.858188Z",
     "start_time": "2025-02-01T16:19:27.848596Z"
    }
   },
   "cell_type": "code",
   "source": [
    "accuracy = np.mean(y_pred == y_test_array) * 100  # Convert to percentage\n",
    "print(f\"Model Accuracy: {accuracy:.2f}%\")"
   ],
   "id": "76e24ea7a5f5725f",
   "outputs": [
    {
     "name": "stdout",
     "output_type": "stream",
     "text": [
      "Model Accuracy: 77.85%\n"
     ]
    }
   ],
   "execution_count": 16
  },
  {
   "metadata": {
    "ExecuteTime": {
     "end_time": "2025-02-01T16:24:43.325110Z",
     "start_time": "2025-02-01T16:24:42.882851Z"
    }
   },
   "cell_type": "code",
   "source": [
    "fpr, tpr, _ = roc_curve(y_test_array, y_pred_probs)\n",
    "roc_auc = auc(fpr, tpr)\n",
    "\n",
    "plt.figure(figsize=(8, 6))\n",
    "plt.plot(fpr, tpr, color=\"blue\", label=f\"AUC = {roc_auc:.2f}\")\n",
    "plt.plot([0, 1], [0, 1], \"r--\")  # Diagonal reference line\n",
    "plt.xlabel(\"False Positive Rate\")\n",
    "plt.ylabel(\"True Positive Rate\")\n",
    "plt.title(\"ROC Curve\")\n",
    "plt.legend(loc=\"lower right\")\n",
    "plt.show()"
   ],
   "id": "5508728277d92d28",
   "outputs": [
    {
     "data": {
      "text/plain": [
       "<Figure size 800x600 with 1 Axes>"
      ],
      "image/png": "[encoded data removed]"
     },
     "metadata": {},
     "output_type": "display_data"
    }
   ],
   "execution_count": 24
  }
 ],
 "metadata": {
  "kernelspec": {
   "display_name": "Python 3",
   "language": "python",
   "name": "python3"
  },
  "language_info": {
   "codemirror_mode": {
    "name": "ipython",
    "version": 2
   },
   "file_extension": ".py",
   "mimetype": "text/x-python",
   "name": "python",
   "nbconvert_exporter": "python",
   "pygments_lexer": "ipython2",
   "version": "2.7.6"
  }
 },
 "nbformat": 4,
 "nbformat_minor": 5
}
